{
  "metadata": {
    "kernelspec": {
      "display_name": "Python 2",
      "name": "python2",
      "language": "python"
    },
    "language_info": {
      "mimetype": "text/x-python",
      "nbconvert_exporter": "python",
      "version": "2.7.5",
      "name": "python",
      "pygments_lexer": "ipython2",
      "file_extension": ".py",
      "codemirror_mode": {
        "version": 2,
        "name": "ipython"
      }
    },
    "tags": [
      "recipe-editor"
    ],
    "associatedRecipe": "compute_python",
    "createdOn": 1628289411516,
    "hide_input": false,
    "customFields": {},
    "creator": "chengk15",
    "modifiedBy": "chengk15",
    "versionNumber": 1
  },
  "nbformat": 4,
  "nbformat_minor": 1,
  "cells": [
    {
      "execution_count": 0,
      "cell_type": "code",
      "metadata": {},
      "source": [
        "import pandas as pd, numpy as np\nimport time\n\nwith open(\u0027strings.txt\u0027, \u0027r\u0027) as f:\n    strings \u003d f.read().split(\u0027\\n\u0027)\n\nselect_df \u003d pd.read_csv(\u0027select.csv\u0027)\n\nstart \u003d time.perf_counter()"
      ],
      "outputs": []
    },
    {
      "execution_count": 0,
      "cell_type": "code",
      "metadata": {},
      "source": [
        "# initialize an empty list\nanswer1 \u003d []\n# iterate over rows in select\nfor i in range(len(select_df.index)):\n    # initialize another empty list to correspond to a particular line from strings\n    blank_list \u003d []\n    # iterate over columns in select\n    for j in range(len(select_df.columns)):\n        # append the selected characters\n        arr.append(strings_df.iloc[i][j])\n    # add the array created for one line to the array of arrays\n    answer1.append(arr2)"
      ],
      "outputs": []
    },
    {
      "execution_count": 0,
      "cell_type": "code",
      "metadata": {},
      "source": [
        "def intify(c):\n    time.sleep(0.001)\n    return ord(c) - 1000\n\nanswer2 \u003d []\n\nstart \u003d time.perf_counter()\n\nfor i in range(len(answer1)):\n    blank_list \u003d []\n    for j in range(len(answer1[i])):\n        blank_list.append(intify(answer1[i][j]))\n    answer2.append(blank_list)\n\nanswer2 \u003d None\n\nprint(time.perf_counter() - start)\nprint(answer2)"
      ],
      "outputs": []
    }
  ]
}